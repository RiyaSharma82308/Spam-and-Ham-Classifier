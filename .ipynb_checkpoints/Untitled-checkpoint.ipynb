{
 "cells": [
  {
   "cell_type": "code",
   "execution_count": null,
   "metadata": {},
   "outputs": [],
   "source": []
  }
 ],
 "metadata": {
  "kernelspec": {
   "display_name": "Python 3",
   "language": "python",
   "name": "python3"
  },
  "language_info": {
   "name": "python",
   "version": "3.10.0"
  },
  "vscode": {
   "interpreter": {
    "hash": "aaa57291e28ece46ce2f18f5c4e026f190a95adf395ea24e66ee4deef752bc62"
   }
  }
 },
 "nbformat": 4,
 "nbformat_minor": 5
}
